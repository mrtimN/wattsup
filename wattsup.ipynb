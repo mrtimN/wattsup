{
 "cells": [
  {
   "cell_type": "code",
   "execution_count": 1,
   "id": "f95851df-3fbe-4105-8bd2-c28444ebe369",
   "metadata": {},
   "outputs": [],
   "source": [
    "import json\n",
    "import os.path\n",
    "import pandas as pd\n",
    "import requests\n",
    "import wbgapi as wb\n",
    "import functions as func\n",
    "\n",
    "pd.set_option('future.no_silent_downcasting', True)\n",
    "\n",
    "# country-codes: https://www.iban.com/country-codes\n",
    "countries = ('AFG', 'ALB', 'DZA', 'ASM', 'AGO', 'ATG', 'ARG', 'ARM', 'ABW',\n",
    "       'AUS', 'AUT', 'AZE', 'BHS', 'BHR', 'BGD', 'BRB', 'BLR', 'BEL',\n",
    "       'BLZ', 'BEN', 'BMU', 'BTN', 'BOL', 'BIH', 'BWA', 'BRA', 'VGB',\n",
    "       'BRN', 'BGR', 'BFA', 'BDI', 'KHM', 'CMR', 'CAN', 'CPV', 'CYM',\n",
    "       'CAF', 'TCD', 'CHL', 'CHN', 'COL', 'COM', 'COG', 'COK', 'CRI',\n",
    "       'CIV', 'HRV', 'CUB', 'CYP', 'CZE', 'COD', 'DNK', 'DJI', 'DMA',\n",
    "       'DOM', 'ECU', 'EGY', 'SLV', 'GNQ', 'ERI', 'EST', 'SWZ', 'ETH',\n",
    "       'FRO', 'FLK', 'FJI', 'FIN', 'FRA', 'GUF', 'PYF', 'GAB', 'GMB',\n",
    "       'GEO', 'DEU', 'GHA', 'GIB', 'GRC', 'GRL', 'GRD', 'GLP', 'GUM',\n",
    "       'GTM', 'GIN', 'GNB', 'GUY', 'HTI', 'HND', 'HKG', 'HUN', 'ISL',\n",
    "       'IND', 'IDN', 'IRN', 'IRQ', 'IRL', 'ISR', 'ITA', 'JAM', 'JPN',\n",
    "       'JOR', 'KAZ', 'KEN', 'KIR', 'KWT', 'KGZ', 'LAO', 'LVA', 'LBN',\n",
    "       'LSO', 'LBR', 'LBY', 'LTU', 'LUX', 'MAC', 'MDG', 'MWI', 'MYS',\n",
    "       'MDV', 'MLI', 'MLT', 'MTQ', 'MRT', 'MUS', 'MEX', 'MDA', 'MNG',\n",
    "       'MNE', 'MSR', 'MAR', 'MOZ', 'MMR', 'NAM', 'NRU', 'NPL', 'NLD',\n",
    "       'NCL', 'NZL', 'NIC', 'NER', 'NGA', 'NIU', 'PRK', 'MKD', 'NOR',\n",
    "       'OMN', 'PAK', 'PSE', 'PAN', 'PNG', 'PRY', 'PER', 'PHL', 'POL',\n",
    "       'PRT', 'PRI', 'QAT', 'REU', 'ROU', 'RUS', 'RWA', 'SHN', 'KNA',\n",
    "       'LCA', 'SPM', 'VCT', 'WSM', 'STP', 'SAU', 'SEN', 'SRB', 'SYC',\n",
    "       'SLE', 'SGP', 'SVK', 'SVN', 'SLB', 'SOM', 'ZAF', 'KOR', 'SSD',\n",
    "       'ESP', 'LKA', 'SDN', 'SUR', 'SWE', 'CHE', 'SYR', 'TWN', 'TJK',\n",
    "       'TZA', 'THA', 'TLS', 'TGO', 'TON', 'TTO', 'TUN', 'TUR', 'TKM',\n",
    "       'TCA', 'UGA', 'UKR', 'ARE', 'GBR', 'USA', 'VIR', 'URY', 'UZB',\n",
    "       'VUT', 'VEN', 'VNM', 'ESH', 'YEM', 'ZMB', 'ZWE')\n",
    "\n",
    "url1 = 'data/ren_ren_65-22/03_modern-renewable-prod.csv'\n",
    "df_energy_prod = pd.read_csv(url1)"
   ]
  },
  {
   "cell_type": "code",
   "execution_count": 2,
   "id": "38b1ac56-8943-4ee5-a184-b263afa2603a",
   "metadata": {},
   "outputs": [],
   "source": [
    "# Dataframe Collection\n",
    "df_names = ['df_energy_prod', 'df_energy_prod_world', 'df_energy_prod_regions', 'df_countries', 'df_energy', 'df_ember', 'df_wb']\n",
    "\n",
    "# Create empty DataFrames if they don't exist\n",
    "for name in df_names:\n",
    "    if name not in globals():\n",
    "        globals()[name] = pd.DataFrame()"
   ]
  },
  {
   "cell_type": "markdown",
   "id": "74382dec-15ed-48a7-9006-f50e48b91fc5",
   "metadata": {},
   "source": [
    "## API definitions"
   ]
  },
  {
   "cell_type": "code",
   "execution_count": 3,
   "id": "cdb2cc28-3032-4037-a88e-749d0f5b75bd",
   "metadata": {},
   "outputs": [],
   "source": [
    "# FastAPI by Ember\n",
    "# https://api.ember-energy.org/v1/docs\n",
    "base_url = 'https://api.ember-energy.org'\n",
    "my_api_key = 'ddbb448b-f721-4fc7-9b52-68ad159bf482'\n",
    "\n",
    "# dictionary with endpoints that may be necessary for the project.\n",
    "EMBER_ENDPOINTS = {\n",
    "    'generation_per_year': 'electricity-generation/yearly',\n",
    "    'demand_per_year': 'electricity-demand/yearly',\n",
    "    'carbon_per_year': 'carbon-intensity/yearly',\n",
    "    'poweremissions_per_year': 'power-sector-emissions/yearly'\n",
    "}"
   ]
  },
  {
   "cell_type": "code",
   "execution_count": 4,
   "id": "10246461-c979-437b-bc3e-7c35e94b0f6b",
   "metadata": {},
   "outputs": [],
   "source": [
    "# WBGAPI - World Bank Data\n",
    "# !pip install wbgapi\n",
    "# https://pypi.org/project/wbgapi/\n",
    "\n",
    "# dictionary with extracted indicators that may be necessary for the project.\n",
    "GDP_INDICATORS = {\n",
    "    # Constant currency value indicators\n",
    "    'gdp_constant': 'NY.GDP.MKTP.KD',\n",
    "    'gdp_per_capita_constant': 'NY.GDP.PCAP.KD',\n",
    "\n",
    "    # Current currency value indicators\n",
    "    'gdp_current': 'NY.GDP.MKTP.CD',\n",
    "    'gdp_per_capita_current': 'NY.GDP.PCAP.CD',\n",
    "    \n",
    "    # Growth\n",
    "    'gdp_growth_annual_percent': 'NY.GDP.MKTP.KD.ZG',\n",
    "}"
   ]
  },
  {
   "cell_type": "code",
   "execution_count": 5,
   "id": "90c23f80-9b0e-42f4-bc73-b3770cb3ddad",
   "metadata": {},
   "outputs": [
    {
     "name": "stdout",
     "output_type": "stream",
     "text": [
      "Data successfully saved to data/country_population.json\n"
     ]
    }
   ],
   "source": [
    "# Country Facts API for population\n",
    "# https://rapidapi.com/richardarthur228/api/country-facts\n",
    "url = \"https://country-facts.p.rapidapi.com/countries\"\n",
    "\n",
    "headers = {\n",
    "\t\"x-rapidapi-key\": \"7d10528dd9mshe83c6e49a55b7b6p19993ejsnf055a7d85e68\",\n",
    "\t\"x-rapidapi-host\": \"country-facts.p.rapidapi.com\"\n",
    "}\n",
    "response = requests.get(url, headers=headers)\n",
    "\n",
    "func.save_json(response.json(), 'data/country_population.json')"
   ]
  },
  {
   "cell_type": "markdown",
   "id": "544c513c-3913-44c4-9b5b-ab042444b89e",
   "metadata": {},
   "source": [
    "## Clean Dataset"
   ]
  },
  {
   "cell_type": "code",
   "execution_count": 6,
   "id": "029f8de8-ba90-4ea2-9a9e-2ef50bcc1ace",
   "metadata": {},
   "outputs": [],
   "source": [
    "df_energy_prod = df_energy_prod.rename(columns={'Entity': 'country', 'Code': 'iso_code', 'Year': 'year', 'Electricity from wind (TWh)': 'wind', 'Electricity from hydro (TWh)': 'hydro', 'Electricity from solar (TWh)': 'solar', 'Other renewables including bioenergy (TWh)': 'other_inc_bio'})\n",
    "# remove kosovo, udssr, regions and world & save regions and world in separate dfs\n",
    "df_energy_prod = df_energy_prod.loc[df_energy_prod['iso_code'] != 'OWID_KOS']\n",
    "df_energy_prod = df_energy_prod.loc[df_energy_prod['iso_code'] != 'OWID_USS']\n",
    "df_energy_prod_world = df_energy_prod.loc[df_energy_prod['iso_code'] == 'OWID_WRL']\n",
    "df_energy_prod = df_energy_prod.loc[df_energy_prod['iso_code'] != 'OWID_WRL']\n",
    "df_energy_prod_regions = df_energy_prod[df_energy_prod['iso_code'].isna()]\n",
    "df_energy_prod = df_energy_prod.loc[df_energy_prod['iso_code'].notna()]\n",
    "df_energy_prod = df_energy_prod.loc[df_energy_prod['year'] != 2022]"
   ]
  },
  {
   "cell_type": "code",
   "execution_count": 7,
   "id": "4a39d786-4006-4ac0-8ac4-8b677faf5c6a",
   "metadata": {},
   "outputs": [
    {
     "name": "stdout",
     "output_type": "stream",
     "text": [
      "The file countries.csv already exists\n"
     ]
    }
   ],
   "source": [
    "countries_file = 'data/countries.csv'\n",
    "\n",
    "if os.path.exists(countries_file):\n",
    "    df_countries = pd.read_csv(countries_file)\n",
    "    print('The file countries.csv already exists')\n",
    "else:\n",
    "    # Create countries DataFrame\n",
    "    df_countries['name'] = df_energy_prod['country'].unique()\n",
    "    df_countries['iso_code'] = df_energy_prod['iso_code'].unique()\n",
    "    df_countries.sort_values(by=['name'], inplace=True)\n",
    "    df_countries.reset_index(drop=True, inplace=True)\n",
    "\n",
    "    # Load population data\n",
    "    data = func.load_json('data/country_population.json')\n",
    "    df_pop = pd.DataFrame([\n",
    "        (country[\"cca3\"], int(country[\"population\"].replace(\",\", \"\")))\n",
    "        for country in data['result']\n",
    "    ], columns=[\"iso_code\", \"population\"])\n",
    "\n",
    "    # Merge country and population data\n",
    "    df_countries = df_countries.merge(df_pop, on=\"iso_code\", how=\"left\")\n",
    "\n",
    "    # Handle missing values\n",
    "    df_countries.dropna(subset=[\"name\"], inplace=True)\n",
    "    df_countries.fillna(0, inplace=True)\n",
    "\n",
    "    # Save as the single final file\n",
    "    df_countries.to_csv(countries_file, index=False)\n",
    "    print('The file countries.csv has been created')"
   ]
  },
  {
   "cell_type": "markdown",
   "id": "5897e500-572b-4bb9-a730-36668bca4198",
   "metadata": {},
   "source": [
    "## Enrich Energy Data with Ember FastAPI"
   ]
  },
  {
   "cell_type": "code",
   "execution_count": 8,
   "id": "24a4314d-dae9-4e1c-930a-d7c02af1f37e",
   "metadata": {},
   "outputs": [
    {
     "name": "stdout",
     "output_type": "stream",
     "text": [
      "The file already exists\n"
     ]
    }
   ],
   "source": [
    "if os.path.exists('data/ember_ren_prod_23_24.json'):\n",
    "    print('The file already exists')\n",
    "else:\n",
    "    data = ember_fetch_data(EMBER_ENDPOINTS['generation_per_year'], countries, my_api_key, base_url)\n",
    "    func.save_json(data, 'data/ember_ren_prod_23_24.json')"
   ]
  },
  {
   "cell_type": "code",
   "execution_count": 9,
   "id": "f160e1e1-57ed-4cd8-af9b-dfd5668b0793",
   "metadata": {
    "scrolled": true
   },
   "outputs": [
    {
     "name": "stdout",
     "output_type": "stream",
     "text": [
      "The file already exists\n"
     ]
    }
   ],
   "source": [
    "if os.path.exists('data/ember_enrich_ren_prod_22_23_24.csv'):\n",
    "    df_ember = pd.read_csv('data/ember_enrich_ren_prod_22_23_24.csv')\n",
    "    print('The file already exists')\n",
    "else:\n",
    "    df_json_data = func.load_json('data/ember_ren_prod_23_24.json')\n",
    "    df_json_filtred = func.ember_filter_data(df_json_data)\n",
    "    df_json_agg = func.ember_aggregate_bioenergy_other_renewables(df_json_filtred)\n",
    "    df_json_reshaped = func.ember_reshape_data(df_json_agg)\n",
    "    df_json_reshaped.to_csv('data/ember_enrich_ren_prod_22_23_24.csv', index=False)"
   ]
  },
  {
   "cell_type": "markdown",
   "id": "cab5695f-8f77-4bb7-bcc4-3888edc3cf6b",
   "metadata": {},
   "source": [
    "## Enrich GDP Data with World Bank API"
   ]
  },
  {
   "cell_type": "code",
   "execution_count": 10,
   "id": "78a3acd6-7613-4151-8c09-01560207417b",
   "metadata": {},
   "outputs": [
    {
     "name": "stdout",
     "output_type": "stream",
     "text": [
      "The file already exists\n"
     ]
    }
   ],
   "source": [
    "if os.path.exists('data/forvisualization/wb_enrich_ren_prod_1965_23.csv'):\n",
    "    df_wb = pd.read_csv('data/forvisualization/wb_enrich_ren_prod_1965_23.csv')\n",
    "    print('The file already exists')\n",
    "else:\n",
    "    df_wb = func.wb_get_data(GDP_INDICATORS, countries)\n",
    "    df_wb.fillna(0, inplace=True)\n",
    "    # map countries index on iso_code and remove redundant columns\n",
    "    df_wb['fk_country'] = df_wb['iso_code'].map(lambda iso: df_countries[df_countries['iso_code'] == iso].index[0])\n",
    "    df_wb.drop(['iso_code'], axis=1, inplace=True)\n",
    "    df_wb.to_csv('data/forvisualization/wb_enrich_ren_prod_1965_23.csv', index=False)"
   ]
  },
  {
   "cell_type": "markdown",
   "id": "d803ed8c-9070-467a-86f2-0a51c3ced364",
   "metadata": {},
   "source": [
    "## Combine Datasets"
   ]
  },
  {
   "cell_type": "code",
   "execution_count": 11,
   "id": "574d3602-4b3d-4eac-95c2-2f437a338f2d",
   "metadata": {},
   "outputs": [
    {
     "name": "stdout",
     "output_type": "stream",
     "text": [
      "The file already exists\n"
     ]
    }
   ],
   "source": [
    "# Combine base dataset with enriched data\n",
    "if os.path.exists('data/forvisualization/enriched_energy_prod.csv'):\n",
    "    df_energy = pd.read_csv('data/forvisualization/enriched_energy_prod.csv')\n",
    "    print('The file already exists')\n",
    "else:\n",
    "    df_energy = pd.concat([df_energy_prod, df_ember])\n",
    "    df_energy = df_energy.sort_values(by=['iso_code', 'year'])\n",
    "    df_energy.reset_index(drop=True, inplace=True)\n",
    "    df_energy.fillna(0, inplace=True)\n",
    "    # map countries index on iso_code and remove redundant columns\n",
    "    df_energy['fk_country'] = df_energy['iso_code'].map(lambda iso: df_countries[df_countries['iso_code'] == iso].index[0])\n",
    "    df_energy.drop(['country', 'iso_code'], axis=1, inplace=True)\n",
    "    df_energy.to_csv('data/forvisualization/enriched_energy_prod.csv')"
   ]
  },
  {
   "cell_type": "code",
   "execution_count": 13,
   "id": "8adc920f-cca7-420c-b72d-b80b3ff59e81",
   "metadata": {},
   "outputs": [
    {
     "name": "stdout",
     "output_type": "stream",
     "text": [
      "The file already exists\n"
     ]
    }
   ],
   "source": [
    "if os.path.exists('data/forvisualization/combined_energy_wb.csv'):\n",
    "    df_combined = pd.read_csv('data/forvisualization/combined_energy_wb.csv')\n",
    "    print('The file already exists')\n",
    "else:\n",
    "    exclude_cols = {'year', 'fk_country'}\n",
    "    columns_to_check = [col for col in df_combined2.columns if col not in exclude_cols]\n",
    "    if 'Unnamed: 0' in df_energy.columns:\n",
    "        df_energy.drop('Unnamed: 0', axis=1, inplace=True)\n",
    "    df_combined = df_energy.merge(df_wb, on=['fk_country', 'year'], how='outer')\n",
    "    df_combined.fillna(0, inplace=True)\n",
    "    df_combined = df_combined.loc[(df_combined[columns_to_check] != 0).any(axis=1)]\n",
    "    df_combined.to_csv('data/forvisualization/combined_energy_wb.csv')"
   ]
  },
  {
   "cell_type": "code",
   "execution_count": null,
   "id": "13fd7a1d",
   "metadata": {},
   "outputs": [],
   "source": []
  }
 ],
 "metadata": {
  "kernelspec": {
   "display_name": "base",
   "language": "python",
   "name": "python3"
  },
  "language_info": {
   "codemirror_mode": {
    "name": "ipython",
    "version": 3
   },
   "file_extension": ".py",
   "mimetype": "text/x-python",
   "name": "python",
   "nbconvert_exporter": "python",
   "pygments_lexer": "ipython3",
   "version": "3.12.7"
  }
 },
 "nbformat": 4,
 "nbformat_minor": 5
}
