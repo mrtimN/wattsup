{
 "cells": [
  {
   "cell_type": "code",
   "execution_count": null,
   "id": "f95851df-3fbe-4105-8bd2-c28444ebe369",
   "metadata": {},
   "outputs": [],
   "source": [
    "import json\n",
    "import os.path\n",
    "import pandas as pd\n",
    "import requests\n",
    "import wbgapi as wb\n",
    "import functions as func\n",
    "\n",
    "pd.set_option('future.no_silent_downcasting', True)\n",
    "\n",
    "# country-codes: https://www.iban.com/country-codes\n",
    "countries = ('AFG', 'ALB', 'DZA', 'ASM', 'AGO', 'ATG', 'ARG', 'ARM', 'ABW',\n",
    "       'AUS', 'AUT', 'AZE', 'BHS', 'BHR', 'BGD', 'BRB', 'BLR', 'BEL',\n",
    "       'BLZ', 'BEN', 'BMU', 'BTN', 'BOL', 'BIH', 'BWA', 'BRA', 'VGB',\n",
    "       'BRN', 'BGR', 'BFA', 'BDI', 'KHM', 'CMR', 'CAN', 'CPV', 'CYM',\n",
    "       'CAF', 'TCD', 'CHL', 'CHN', 'COL', 'COM', 'COG', 'COK', 'CRI',\n",
    "       'CIV', 'HRV', 'CUB', 'CYP', 'CZE', 'COD', 'DNK', 'DJI', 'DMA',\n",
    "       'DOM', 'ECU', 'EGY', 'SLV', 'GNQ', 'ERI', 'EST', 'SWZ', 'ETH',\n",
    "       'FRO', 'FLK', 'FJI', 'FIN', 'FRA', 'GUF', 'PYF', 'GAB', 'GMB',\n",
    "       'GEO', 'DEU', 'GHA', 'GIB', 'GRC', 'GRL', 'GRD', 'GLP', 'GUM',\n",
    "       'GTM', 'GIN', 'GNB', 'GUY', 'HTI', 'HND', 'HKG', 'HUN', 'ISL',\n",
    "       'IND', 'IDN', 'IRN', 'IRQ', 'IRL', 'ISR', 'ITA', 'JAM', 'JPN',\n",
    "       'JOR', 'KAZ', 'KEN', 'KIR', 'KWT', 'KGZ', 'LAO', 'LVA', 'LBN',\n",
    "       'LSO', 'LBR', 'LBY', 'LTU', 'LUX', 'MAC', 'MDG', 'MWI', 'MYS',\n",
    "       'MDV', 'MLI', 'MLT', 'MTQ', 'MRT', 'MUS', 'MEX', 'MDA', 'MNG',\n",
    "       'MNE', 'MSR', 'MAR', 'MOZ', 'MMR', 'NAM', 'NRU', 'NPL', 'NLD',\n",
    "       'NCL', 'NZL', 'NIC', 'NER', 'NGA', 'NIU', 'PRK', 'MKD', 'NOR',\n",
    "       'OMN', 'PAK', 'PSE', 'PAN', 'PNG', 'PRY', 'PER', 'PHL', 'POL',\n",
    "       'PRT', 'PRI', 'QAT', 'REU', 'ROU', 'RUS', 'RWA', 'SHN', 'KNA',\n",
    "       'LCA', 'SPM', 'VCT', 'WSM', 'STP', 'SAU', 'SEN', 'SRB', 'SYC',\n",
    "       'SLE', 'SGP', 'SVK', 'SVN', 'SLB', 'SOM', 'ZAF', 'KOR', 'SSD',\n",
    "       'ESP', 'LKA', 'SDN', 'SUR', 'SWE', 'CHE', 'SYR', 'TWN', 'TJK',\n",
    "       'TZA', 'THA', 'TLS', 'TGO', 'TON', 'TTO', 'TUN', 'TUR', 'TKM',\n",
    "       'TCA', 'UGA', 'UKR', 'ARE', 'GBR', 'USA', 'VIR', 'URY', 'UZB',\n",
    "       'VUT', 'VEN', 'VNM', 'ESH', 'YEM', 'ZMB', 'ZWE')\n",
    "\n",
    "url1 = 'data/ren_ren_65-22/03_modern-renewable-prod.csv'\n",
    "df_energy_prod = pd.read_csv(url1)"
   ]
  },
  {
   "cell_type": "code",
   "execution_count": null,
   "id": "38b1ac56-8943-4ee5-a184-b263afa2603a",
   "metadata": {},
   "outputs": [],
   "source": [
    "# Dataframe Collection\n",
    "df_names = ['df_energy_prod', 'df_energy_prod_world', 'df_energy_prod_regions', 'df_countries', 'df_ember']\n",
    "\n",
    "# Create empty DataFrames if they don't exist\n",
    "for name in df_names:\n",
    "    if name not in globals():\n",
    "        globals()[name] = pd.DataFrame()"
   ]
  },
  {
   "cell_type": "markdown",
   "id": "74382dec-15ed-48a7-9006-f50e48b91fc5",
   "metadata": {},
   "source": [
    "## API definitions"
   ]
  },
  {
   "cell_type": "code",
   "execution_count": null,
   "id": "cdb2cc28-3032-4037-a88e-749d0f5b75bd",
   "metadata": {},
   "outputs": [],
   "source": [
    "# FastAPI by Ember\n",
    "# https://api.ember-energy.org/v1/docs\n",
    "base_url = 'https://api.ember-energy.org'\n",
    "my_api_key = 'ddbb448b-f721-4fc7-9b52-68ad159bf482'\n",
    "\n",
    "# dictionary with endpoints that may be necessary for the project.\n",
    "EMBER_ENDPOINTS = {\n",
    "    'generation_per_year': 'electricity-generation/yearly',\n",
    "    'generation_per_month': 'electricity-generation/monthly',\n",
    "    'demand_per_year': 'electricity-demand/yearly',\n",
    "    'demand_per_month': 'electricity-demand/monthly'\n",
    "}"
   ]
  },
  {
   "cell_type": "code",
   "execution_count": null,
   "id": "10246461-c979-437b-bc3e-7c35e94b0f6b",
   "metadata": {},
   "outputs": [],
   "source": [
    "# WBGAPI - World Bank Data\n",
    "# !pip install wbgapi\n",
    "# https://pypi.org/project/wbgapi/\n",
    "\n",
    "# dictionary with extracted indicators that may be necessary for the project.\n",
    "GDP_INDICATORS = {\n",
    "    # Constant currency value indicators\n",
    "    'GDP_constant_2015_USD': 'NY.GDP.MKTP.KD',\n",
    "    'GDP_per_capita_constant_2015_USD': 'NY.GDP.PCAP.KD',\n",
    "    'GDP_PPP_constant_2021_international_USD': 'NY.GDP.MKTP.PP.KD',\n",
    "    'GDP_per_capita_PPP_constant_2021_international_USD': 'NY.GDP.PCAP.PP.KD',\n",
    "\n",
    "    # Growth\n",
    "    'GDP_growth_annual_percent': 'NY.GDP.MKTP.KD.ZG',\n",
    "\n",
    "    # Current currency value indicators\n",
    "    'GDP_current_USD': 'NY.GDP.MKTP.CD',\n",
    "    'GDP_per_capita_current_USD': 'NY.GDP.PCAP.CD',\n",
    "    'GDP_PPP_current_international_USD': 'NY.GDP.MKTP.PP.CD',\n",
    "    'GDP_per_capita_PPP_current_international_USD': 'NY.GDP.PCAP.PP.CD',\n",
    "}"
   ]
  },
  {
   "cell_type": "markdown",
   "id": "544c513c-3913-44c4-9b5b-ab042444b89e",
   "metadata": {
    "jp-MarkdownHeadingCollapsed": true
   },
   "source": [
    "## Clean Dataset"
   ]
  },
  {
   "cell_type": "code",
   "execution_count": null,
   "id": "029f8de8-ba90-4ea2-9a9e-2ef50bcc1ace",
   "metadata": {},
   "outputs": [],
   "source": [
    "df_energy_prod = df_energy_prod.rename(columns={'Entity': 'country', 'Code': 'iso_code', 'Year': 'year', 'Electricity from wind (TWh)': 'wind', 'Electricity from hydro (TWh)': 'hydro', 'Electricity from solar (TWh)': 'solar', 'Other renewables including bioenergy (TWh)': 'other_inc_bio'})\n",
    "# remove kosovo, udssr, regions and world & save regions and world in separate dfs\n",
    "df_energy_prod = df_energy_prod.loc[df_energy_prod['iso_code'] != 'OWID_KOS']\n",
    "df_energy_prod = df_energy_prod.loc[df_energy_prod['iso_code'] != 'OWID_USS']\n",
    "df_energy_prod_world = df_energy_prod.loc[df_energy_prod['iso_code'] == 'OWID_WRL']\n",
    "df_energy_prod = df_energy_prod.loc[df_energy_prod['iso_code'] != 'OWID_WRL']\n",
    "df_energy_prod_regions = df_energy_prod[df_energy_prod['iso_code'].isna()]\n",
    "df_energy_prod = df_energy_prod.loc[df_energy_prod['iso_code'].notna()]"
   ]
  },
  {
   "cell_type": "code",
   "execution_count": null,
   "id": "88b2d03d-2737-455b-aeb7-d4fd67fb6cb2",
   "metadata": {},
   "outputs": [],
   "source": [
    "# create countries dataframe\n",
    "df_countries['name'] = df_energy_prod['country'].unique()\n",
    "df_countries['iso_code'] = df_energy_prod['iso_code'].unique()"
   ]
  },
  {
   "cell_type": "code",
   "execution_count": null,
   "id": "b174e453-51fc-4ac3-9b0f-8daeb0754179",
   "metadata": {},
   "outputs": [],
   "source": [
    "# map countries index on iso_code and remove redundant columns\n",
    "#df_energy_prod['fk_country'] = df_energy_prod['Code'].map(lambda iso: df_countries[df_countries['iso_code'] == iso].index[0])\n",
    "#df_energy_prod.drop(['Entity', 'Code'], axis=1, inplace=True)"
   ]
  },
  {
   "cell_type": "markdown",
   "id": "5897e500-572b-4bb9-a730-36668bca4198",
   "metadata": {
    "jp-MarkdownHeadingCollapsed": true
   },
   "source": [
    "## Enrich Energy Data with Ember FastAPI"
   ]
  },
  {
   "cell_type": "code",
   "execution_count": null,
   "id": "24a4314d-dae9-4e1c-930a-d7c02af1f37e",
   "metadata": {},
   "outputs": [],
   "source": [
    "if os.path.exists('data/ember_ren_prod_23_24.json'):\n",
    "    print('The file already exists')\n",
    "else:\n",
    "    data = ember_fetch_data(EMBER_ENDPOINTS['generation_per_year'], countries, my_api_key, base_url)\n",
    "    func.save_json(data, 'data/ember_ren_prod_23_24.json')"
   ]
  },
  {
   "cell_type": "code",
   "execution_count": null,
   "id": "f160e1e1-57ed-4cd8-af9b-dfd5668b0793",
   "metadata": {
    "scrolled": true
   },
   "outputs": [],
   "source": [
    "if os.path.exists('data/ember_enrich_reg_prod_23_24.csv'):\n",
    "    print('The file already exists')\n",
    "else:\n",
    "    df_json_data = func.load_json('data/ember_ren_prod_23_24.json')\n",
    "    df_json_filtred = func.ember_filter_data(df_json_data)\n",
    "    df_json_agg = func.ember_aggregate_bioenergy_other_renewables(df_json_filtred)\n",
    "    df_json_reshaped = func.ember_reshape_data(df_json_agg)\n",
    "    df_json_reshaped.to_csv('data/ember_enrich_reg_prod_23_24.csv', index=False)"
   ]
  },
  {
   "cell_type": "code",
   "execution_count": null,
   "id": "730b36a9-762a-4adf-a326-088f7ec9f354",
   "metadata": {},
   "outputs": [],
   "source": [
    "df_ember = pd.read_csv('data/ember_enrich_reg_prod_23_24.csv')"
   ]
  },
  {
   "cell_type": "markdown",
   "id": "cab5695f-8f77-4bb7-bcc4-3888edc3cf6b",
   "metadata": {},
   "source": [
    "## Enrich GDP Data with World Bank API"
   ]
  },
  {
   "cell_type": "code",
   "execution_count": null,
   "id": "ec37908b-de4b-4f78-ac87-2554f23f14f4",
   "metadata": {},
   "outputs": [],
   "source": [
    "#df = wb.source.info()\n",
    "#wb.search('gdp')\n",
    "#wb.data.DataFrame(['NY.GDP.PCAP.CD', 'SP.POP.TOTL'], 'DEU', mrv=5)\n",
    "#wb.data.Dataframe('selected_metric', 'USA')\n",
    "#wb.economy.info(q='ger')\n",
    "#for row in wb.data.fetch(selected_metric, 'USA'): # all years\n",
    "    #print(row)\n",
    "\n",
    "#wb.get_data(selected_metric, country=['USA', 'GBR'], date=('2010', '2011'))\n",
    "wb.data.DataFrame(GDP_INDICATORS['GDP_growth_annual_percent'], countries, range(2021, 2025))\n"
   ]
  },
  {
   "cell_type": "code",
   "execution_count": null,
   "id": "2fcac42b-0746-40ad-836d-33d251158554",
   "metadata": {},
   "outputs": [],
   "source": [
    "url = 'http://api.worldbank.org/v2/country/%s/indicator/NY.GDP.PCAP.CD?format=json'\n",
    "countries = ['DZA','AGO','ARG','AUS','AUT','BEL','BRA','CAN','CHL','CHN','COL','CYP', 'CZE','DNK','FIN','FRA','GEO','DEU', 'GRC','HUN','ISL','IND','IDN','IRL','ISR','ITA','JPN','KAZ','KWT','LBN','LIE','MYS','MEX','MCO','MAR','NPL','NLD', 'NZL','NGA','NOR','OMN','PER','PHL','POL','PRT','QAT','ROU','SGP','ZAF','ESP','SWE','CHE','TZA','THA','TUR','UKR', 'GBR','USA','VNM','ZWE']\n",
    "my_values = []\n",
    "\n",
    "for country in countries:\n",
    "    data = requests.get(url % country).json()\n",
    "    try:\n",
    "        for d in data:inlineRefs{references='&#91;&#123;&quot;type&quot;&#58;&quot;inline_reference&quot;,&quot;start_index&quot;&#58;814,&quot;end_index&quot;&#58;817,&quot;number&quot;&#58;1,&quot;url&quot;&#58;&quot;https&#58;//deepnote.com/app/carlos-mendez/PYTHON-World-Bank-data-7d57b121-2bdf-4f13-b8d9-9520c9f8a7cc&quot;,&quot;favicon&quot;&#58;&quot;https&#58;//imgs.search.brave.com/8dmWbpa5EnrU1I0iyMuzw062ZJUziGPaoocSSmRgWlg/rs&#58;fit&#58;32&#58;32&#58;1&#58;0/g&#58;ce/aHR0cDovL2Zhdmlj/b25zLnNlYXJjaC5i/cmF2ZS5jb20vaWNv/bnMvNjZlM2JmNWIw/OGQzNmQ0NzUxMTIz/ODAyODczZjM5OGI1/YzhhYTNmZDY3MWVk/NzkwNjUzY2MxNTc5/ODUxZTY1MC9kZWVw/bm90ZS5jb20v&quot;,&quot;snippet&quot;&#58;&quot;Data&#32;apps&#32;for&#32;data&#32;scientists&#32;and&#32;data&#32;analysts…&quot;&#125;&#93;'}:\n",
    "            my_values.append({\n",
    "                'country': d['country']['value'],\n",
    "                'date': d['date'],\n",
    "                'value': d['value']\n",
    "            })\n",
    "    except Exception as err:\n",
    "        print(f'[ERROR] country ==> {country} error ==> {err}')\n",
    "\n",
    "df = pd.DataFrame(my_values).sort_values(['country', 'date'], ascending=True)"
   ]
  },
  {
   "cell_type": "code",
   "execution_count": null,
   "id": "d625a651-7d57-4902-b56d-1b4c3c2b6ba2",
   "metadata": {},
   "outputs": [],
   "source": []
  }
 ],
 "metadata": {
  "kernelspec": {
   "display_name": "Python [conda env:base] *",
   "language": "python",
   "name": "conda-base-py"
  },
  "language_info": {
   "codemirror_mode": {
    "name": "ipython",
    "version": 3
   },
   "file_extension": ".py",
   "mimetype": "text/x-python",
   "name": "python",
   "nbconvert_exporter": "python",
   "pygments_lexer": "ipython3",
   "version": "3.12.7"
  }
 },
 "nbformat": 4,
 "nbformat_minor": 5
}
